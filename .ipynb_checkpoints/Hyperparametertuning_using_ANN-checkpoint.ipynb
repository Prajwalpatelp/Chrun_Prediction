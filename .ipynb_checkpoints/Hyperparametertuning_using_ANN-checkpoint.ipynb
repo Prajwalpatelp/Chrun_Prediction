{
 "cells": [
  {
   "cell_type": "code",
   "execution_count": null,
   "id": "d0ea5a46-0a70-4fe6-8fbf-f76472f78bd7",
   "metadata": {},
   "outputs": [],
   "source": [
    "import numpy as np\n",
    "import pandas as pd\n",
    "from sklearn.model_selection import train_test_split, GridSearchCV\n",
    "from sklearn.preprocessing import StandardScaler,LabelEncoder,OneHotEncoder\n",
    "from sklearn.pipeline import Pipeline\n",
    "from scikeras.wrappers import KerasClassifier\n",
    "import tensorflow as tf\n",
    "from tensorflow.keras.models import Sequential\n",
    "from tensorflow.keras.layers import Dense\n",
    "from tensorflow.keras.callbacks import EarlyStopping\n",
    "import pickle"
   ]
  },
  {
   "cell_type": "code",
   "execution_count": null,
   "id": "f0289e35-4fb8-479c-8b58-c83c0c6b8523",
   "metadata": {},
   "outputs": [],
   "source": [
    "data=pd.read_csv(\"Churn_Modelling.csv\")\n",
    "data.head()"
   ]
  },
  {
   "cell_type": "code",
   "execution_count": null,
   "id": "80dfe0a2-1a22-418a-b52d-400d2706c005",
   "metadata": {},
   "outputs": [],
   "source": [
    "data.drop(['RowNumber','CustomerId','Surname'],axis=1,inplace=True)\n",
    "data.head()"
   ]
  },
  {
   "cell_type": "code",
   "execution_count": null,
   "id": "5185d6ec-ed6d-4bfa-a968-bca007a45dff",
   "metadata": {},
   "outputs": [],
   "source": [
    "# Apply label encoding for Gender\n",
    "encoder=LabelEncoder()\n",
    "data['Gender']=encoder.fit_transform(data['Gender'])"
   ]
  },
  {
   "cell_type": "code",
   "execution_count": null,
   "id": "6e5a62e5-4eb7-4c71-81bc-9bf59aa1ccb1",
   "metadata": {},
   "outputs": [],
   "source": [
    "print(\"Class Mapping:\")\n",
    "for cls, val in zip(encoder.classes_, range(len(encoder.classes_))):\n",
    "    print(f\"{cls} → {val}\")"
   ]
  },
  {
   "cell_type": "code",
   "execution_count": null,
   "id": "1d4c7f1b-7dea-491b-a970-24bed3ff0dbd",
   "metadata": {},
   "outputs": [],
   "source": [
    "one_hot_encoder=OneHotEncoder()\n",
    "geo_encoder=one_hot_encoder.fit_transform(data[['Geography']]).toarray()\n",
    "geo_encoded=pd.DataFrame(geo_encoder,columns=one_hot_encoder.get_feature_names_out(['Geography']))"
   ]
  },
  {
   "cell_type": "code",
   "execution_count": null,
   "id": "a7bb3c00-b4ff-47f4-9e3c-b3f6b3fe413e",
   "metadata": {},
   "outputs": [],
   "source": [
    "df=pd.concat([data,geo_encoded],axis=1)"
   ]
  },
  {
   "cell_type": "code",
   "execution_count": null,
   "id": "8ef74ed6-b0dc-434f-a5b5-746dd0c19d80",
   "metadata": {},
   "outputs": [],
   "source": [
    "df.drop(['Geography'],axis=1,inplace=True)\n",
    "df.head()"
   ]
  },
  {
   "cell_type": "code",
   "execution_count": null,
   "id": "93480df9-a7cd-4819-9f21-344a6a2429d7",
   "metadata": {},
   "outputs": [],
   "source": [
    "X=df.drop('Exited',axis=1)\n",
    "y=df['Exited']"
   ]
  },
  {
   "cell_type": "code",
   "execution_count": null,
   "id": "395ec1d8-b9e5-48b8-b40d-b54c2b765171",
   "metadata": {},
   "outputs": [],
   "source": [
    "X_train, X_test, y_train, y_test = train_test_split(X, y, test_size=0.2, random_state=42)"
   ]
  },
  {
   "cell_type": "code",
   "execution_count": null,
   "id": "22cfbbef-2efd-4dcb-9bd0-58e209c5ee40",
   "metadata": {},
   "outputs": [],
   "source": [
    "scaler=StandardScaler()\n",
    "X_train_scaled=scaler.fit_transform(X_train)\n",
    "X_test_scaled=scaler.transform(X_test)"
   ]
  },
  {
   "cell_type": "code",
   "execution_count": null,
   "id": "7801df28-7091-4e1e-9c20-87b7e2c797e4",
   "metadata": {},
   "outputs": [],
   "source": [
    "# save the encoders and scalers\n",
    "with open('encoder_Gender.pkl','wb') as file:\n",
    "    pickle.dump(encoder,file)\n",
    "\n",
    "with open('one_hot1.pkl','wb') as file:\n",
    "    pickle.dump(one_hot_encoder,file)\n",
    "\n",
    "with open('scaler1.pkl','wb') as file:\n",
    "    pickle.dump(scaler,file)"
   ]
  },
  {
   "cell_type": "code",
   "execution_count": null,
   "id": "e40c2ca1-1550-439d-95c7-e2a4817919e1",
   "metadata": {},
   "outputs": [],
   "source": [
    "# Function to create model\n",
    "def create_model(neurons=32, layers=1, learning_rate=0.001):\n",
    "    model = Sequential()\n",
    "    model.add(Dense(neurons, activation='relu', input_shape=(X_train.shape[1],)))\n",
    "    for _ in range(layers - 1):\n",
    "        model.add(Dense(neurons, activation='relu'))\n",
    "    model.add(Dense(1, activation='sigmoid'))\n",
    "\n",
    "    model.compile(optimizer='adam', loss='binary_crossentropy', metrics=['accuracy'])\n",
    "    return model\n",
    "\n",
    "# Wrap with KerasClassifier using scikeras\n",
    "model = KerasClassifier(model=create_model, verbose=0)\n",
    "\n",
    "# Define parameter grid\n",
    "param_grid = {\n",
    "    'model__neurons': [16, 32, 64],\n",
    "    'model__layers': [1, 2],\n",
    "    'batch_size': [16, 32],\n",
    "    'epochs': [50, 100]\n",
    "}\n",
    "\n",
    "# GridSearchCV with n_jobs=1 to avoid multiprocessing issue\n",
    "grid = GridSearchCV(estimator=model, param_grid=param_grid, cv=3, verbose=1, n_jobs=1)\n",
    "\n",
    "# Run grid search\n",
    "grid_result = grid.fit(X_train, y_train)"
   ]
  },
  {
   "cell_type": "code",
   "execution_count": null,
   "id": "6c0d6d23-4c2f-4e82-b4ec-7bd4a57cbb6b",
   "metadata": {},
   "outputs": [],
   "source": []
  },
  {
   "cell_type": "code",
   "execution_count": null,
   "id": "b2460141-649a-4b9e-833b-ee3660bba4a4",
   "metadata": {},
   "outputs": [],
   "source": []
  },
  {
   "cell_type": "code",
   "execution_count": null,
   "id": "ddb82960-bdfc-4cbc-93c0-70dadcf73dd1",
   "metadata": {},
   "outputs": [],
   "source": []
  },
  {
   "cell_type": "code",
   "execution_count": null,
   "id": "86c699ae-28bf-427e-8ba9-43cb7d771df7",
   "metadata": {},
   "outputs": [],
   "source": []
  }
 ],
 "metadata": {
  "kernelspec": {
   "display_name": "Python 3 (ipykernel)",
   "language": "python",
   "name": "python3"
  },
  "language_info": {
   "codemirror_mode": {
    "name": "ipython",
    "version": 3
   },
   "file_extension": ".py",
   "mimetype": "text/x-python",
   "name": "python",
   "nbconvert_exporter": "python",
   "pygments_lexer": "ipython3",
   "version": "3.11.7"
  }
 },
 "nbformat": 4,
 "nbformat_minor": 5
}
